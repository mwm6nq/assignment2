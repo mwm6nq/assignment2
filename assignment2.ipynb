{
 "cells": [
  {
   "cell_type": "markdown",
   "metadata": {
    "id": "13ad028b-72b7-43ed-aa78-96fd4e518040"
   },
   "source": [
    "# Assignment: Data Wrangling and Exploratory Data Analysis\n",
    "## Do Q1 and Q2, and one other question.\n",
    "`! git clone https://www.github.com/DS3001/assignment2`"
   ]
  },
  {
   "cell_type": "markdown",
   "metadata": {
    "id": "5735a4d4-8be8-433a-a351-70eb8002e632"
   },
   "source": [
    "**Q1.** Open the \"tidy_data.pdf\" document in the repo, which is a paper called Tidy Data by Hadley Wickham.\n",
    "\n",
    "  1. Read the abstract. What is this paper about?\n",
    "  2. Read the introduction. What is the \"tidy data standard\" intended to accomplish?\n",
    "  3. Read the intro to section 2. What does this sentence mean: \"Like families, tidy datasets are all alike but every messy dataset is messy in its own way.\" What does this sentence mean: \"For a given dataset, it’s usually easy to figure out what are observations and what are variables, but it is surprisingly difficult to precisely define variables and observations in general.\"\n",
    "  4. Read Section 2.2. How does Wickham define values, variables, and observations?\n",
    "  5. How is \"Tidy Data\" defined in section 2.3?\n",
    "  6. Read the intro to Section 3 and Section 3.1. What are the 5 most common problems with messy datasets? Why are the data in Table 4 messy? What is \"melting\" a dataset?\n",
    "  7. Why, specifically, is table 11 messy but table 12 tidy and \"molten\"?\n",
    "  8. Read Section 6. What is the \"chicken-and-egg\" problem with focusing on tidy data? What does Wickham hope happens in the future with further work on the subject of data wrangling?"
   ]
  },
  {
   "cell_type": "code",
   "execution_count": 4,
   "metadata": {},
   "outputs": [],
   "source": [
    "# 1. This paper is about cleaning data through the specific way of data tidying. This paper will dive into the simple framework for data tidying, tools needed, and a case study to prove the benefits.\n",
    "# 2. It has been designed to start the initial exploration and analysis and simplyify analsyis tools that work well together. Tidy datsets and tools work togther to make everything easier.\n",
    "# 3a. The first sentence means that tidy datsets can do its best but every dataset is differnt and will reguire unique ways of cleaning it.\n",
    "# 3b. The second statement means that when data gets more complicated or longer that it is harder to determine what are observations and what are variables and want we want to be either. It can get complicated when viewing the data in different ways and ansering different questions - not clear cut. \n",
    "# 4. values - numbers (quantitative) of strings (qualatative); variable - one way a value is organized, contains all values that measure the same attribute across units; obseravtion - another way a value is organized, contains all values measured on the same unit accross attribute\n",
    "# 5. Tidy data is a standard way of mapping the meaning of a datset to its structure: each variable forms a column, each observtaion forms a row, each type of observational unit forms a table\n",
    "# 6a. the 5 most common problems in messy datasets is column headers are values, not variable name, multiple variables start store in one column, variables are stored in both rows and columns, multiple types of observational units are store in the same table, and a single observational unit is store in multiple tables\n",
    "# 6b. The column headers are variables not titles, there are variables stored in both rows and columns\n",
    "# 6c. the reuslt of melting data is turning columns into rows, it results into molten dataset\n",
    "# 7. Table 11 is mesy due to having variables stored in both rows and columns - has variables in indvidual columns, spread across columns, and spread across rows. In table 12 with a tidy data it contains the max and min in one row and in the molten table we have dropped the missing values and the columns have become rows- uses the date\n",
    "# 8a. The chicken and the egg probelm is that one needs tidy tools to tidy data but to tidy data one needs to understand its tidy tools; so you need both tidy tools and tidy data but both rely on eachother to work so which one comes first?\n",
    "# 8b. Wickham hopes that data cleanig is studied more and improvements are made to tools and understadning of tidying data as it its a in important problem. Wickham hopes to use methodologies from fields to imporve data analsyis and to design tools to help analyze data "
   ]
  },
  {
   "cell_type": "markdown",
   "metadata": {
    "id": "da879ea7-8aac-48a3-b6c2-daea56d2e072"
   },
   "source": [
    "**Q2.** This question provides some practice cleaning variables which have common problems.\n",
    "1. Numeric variable: For `./data/airbnb_hw.csv`, clean the `Price` variable as well as you can, and explain the choices you make. How many missing values do you end up with? (Hint: What happens to the formatting when a price goes over 999 dollars, say from 675 to 1,112?)\n",
    "2. Categorical variable: For the `./data/sharks.csv` data covered in the lecture, clean the \"Type\" variable as well as you can, and explain the choices you make.\n",
    "3. Dummy variable: For the pretrial data covered in the lecture, clean the `WhetherDefendantWasReleasedPretrial` variable as well as you can, and, in particular, replace missing values with `np.nan`.\n",
    "4. Missing values, not at random: For the pretrial data covered in the lecture, clean the `ImposedSentenceAllChargeInContactEvent` variable as well as you can, and explain the choices you make. (Hint: Look at the `SentenceTypeAllChargesAtConvictionInContactEvent` variable.)"
   ]
  },
  {
   "cell_type": "code",
   "execution_count": 10,
   "metadata": {},
   "outputs": [],
   "source": [
    "import numpy as np  # Import NumPy\n",
    "import pandas as pd  # Import Pandas\n",
    "import seaborn as sns # Import Seaborn"
   ]
  },
  {
   "cell_type": "code",
   "execution_count": 11,
   "metadata": {},
   "outputs": [
    {
     "name": "stdout",
     "output_type": "stream",
     "text": [
      "Total missing values is 181\n"
     ]
    }
   ],
   "source": [
    "#1\n",
    "bnb = pd.read_csv('./data/airbnb_hw.csv')\n",
    "bnb['Price'].str.replace(',','') #removing the commas out of the value to save the data above 999\n",
    "bnb['Price'] = pd.to_numeric(bnb['Price'], errors='coerce') # will set missing or invalid data to NaN\n",
    "bnb['Price'+'_nan'] = bnb['Price'].isnull() #creates variable to see the total number of missing values\n",
    "print(\"Total missing values is\", sum(bnb['Price_nan']))"
   ]
  },
  {
   "cell_type": "code",
   "execution_count": 26,
   "metadata": {},
   "outputs": [
    {
     "name": "stdout",
     "output_type": "stream",
     "text": [
      "Unprovoked             4716\n",
      "Provoked                593\n",
      "Invalid                 552\n",
      "Sea Disaster            239\n",
      "Watercraft              142\n",
      "Boat                    109\n",
      "Boating                  92\n",
      "Questionable             10\n",
      "Under investigation       1\n",
      "Boatomg                   1\n",
      "Unconfirmed               1\n",
      "Unverified                1\n",
      "Name: Type, dtype: int64\n",
      "Unprovoked    4716\n",
      "Provoked       593\n",
      "Name: Type, dtype: int64\n"
     ]
    },
    {
     "name": "stderr",
     "output_type": "stream",
     "text": [
      "/apps/software/standard/compiler/gcc/9.2.0/jupyter_conda/2020.11-py3.8/lib/python3.8/site-packages/IPython/core/interactiveshell.py:3146: DtypeWarning: Columns (10,17,18,19,20,21,24) have mixed types.Specify dtype option on import or set low_memory=False.\n",
      "  has_raised = await self.run_ast_nodes(code_ast.body, cell_name,\n"
     ]
    }
   ],
   "source": [
    "#2\n",
    "df = pd.read_csv('./data/sharks.csv')\n",
    "print(df['Type'].value_counts()) #called to see the unique type values\n",
    "df['Type'] = df['Type'].replace(['Invalid','Sea Disaster','Watercraft','Boat','Boating','Questionable','Under investigation','Boatomg','Unconfirmed','Unverified'],np.nan) #only Types of cases keeping the data for are unprovoked or provoked; changing all other types of to nan values as do not want to remove the row of data but also do not want unnessary informtion that is not going to help the user later with random type variables \n",
    "print(df['Type'].value_counts()) #called to see the change to the type values"
   ]
  },
  {
   "cell_type": "code",
   "execution_count": 27,
   "metadata": {},
   "outputs": [
    {
     "name": "stdout",
     "output_type": "stream",
     "text": [
      "1    19154\n",
      "0     3801\n",
      "9       31\n",
      "Name: WhetherDefendantWasReleasedPretrial, dtype: int64\n",
      "1.0    19154\n",
      "0.0     3801\n",
      "Name: WhetherDefendantWasReleasedPretrial, dtype: int64\n"
     ]
    }
   ],
   "source": [
    "#3\n",
    "url = 'http://www.vcsc.virginia.gov/pretrialdataproject/October%202017%20Cohort_Virginia%20Pretrial%20Data%20Project_Deidentified%20FINAL%20Update_10272021.csv'\n",
    "df = pd.read_csv(url,low_memory=False)\n",
    "df['WhetherDefendantWasReleasedPretrial'] = pd.to_numeric(df['WhetherDefendantWasReleasedPretrial'], errors='coerce') #setting all invalid or missing data to nan\n",
    "print(df['WhetherDefendantWasReleasedPretrial'].value_counts()) #finding all values in category of the relased pretrial\n",
    "df['WhetherDefendantWasReleasedPretrial'] = df['WhetherDefendantWasReleasedPretrial'].replace(9,np.nan) #replacing 9 with nan as only values care about are 1 or 0\n",
    "print(df['WhetherDefendantWasReleasedPretrial'].value_counts()) #to see the change after missing values are put in place"
   ]
  },
  {
   "cell_type": "code",
   "execution_count": 34,
   "metadata": {},
   "outputs": [
    {
     "name": "stdout",
     "output_type": "stream",
     "text": [
      "[9 0 1 4 2]\n",
      "SentenceTypeAllChargesAtConvictionInContactEvent     0   1  2\n",
      "ImposedSentenceAllChargeInContactEvent                       \n",
      "0.000000                                          4953   0  0\n",
      "0.032854                                             0   6  0\n",
      "0.065708                                             3  21  0\n",
      "0.098563                                             2   6  0\n",
      "0.131417                                             4  10  0\n",
      "...                                                ...  .. ..\n",
      "1200.000000                                          0   0  1\n",
      "1500.000000                                          0   0  1\n",
      "1752.000000                                          0   0  1\n",
      "1980.000000                                          0   0  1\n",
      "2208.000000                                          0   0  1\n",
      "\n",
      "[483 rows x 3 columns]\n",
      "0.000000      4953\n",
      "12.000000     1404\n",
      "0.985626      1051\n",
      "6.000000       809\n",
      "3.000000       787\n",
      "              ... \n",
      "11.328542        1\n",
      "41.913758        1\n",
      "399.000000       1\n",
      "473.000000       1\n",
      "75.000000        1\n",
      "Name: ImposedSentenceAllChargeInContactEvent, Length: 483, dtype: int64\n",
      "0.000000      14006\n",
      "12.000000      1404\n",
      "0.985626       1051\n",
      "6.000000        809\n",
      "3.000000        787\n",
      "              ...  \n",
      "59.926078         1\n",
      "9.492813          1\n",
      "34.492813         1\n",
      "141.000000        1\n",
      "128.628337        1\n",
      "Name: ImposedSentenceAllChargeInContactEvent, Length: 483, dtype: int64\n"
     ]
    }
   ],
   "source": [
    "#4\n",
    "df['ImposedSentenceAllChargeInContactEvent'] = pd.to_numeric(df['ImposedSentenceAllChargeInContactEvent'], errors='coerce') #setting all invalid or missing data to nan\n",
    "print(df['SentenceTypeAllChargesAtConvictionInContactEvent'].unique()) #to see the possible values of the sentence type\n",
    "print(pd.crosstab(df['ImposedSentenceAllChargeInContactEvent'],df['SentenceTypeAllChargesAtConvictionInContactEvent'])) #compare the sentence type and the imposed sentence, see that 9 and 4 values of setence type have a corresponding value of no sentence\n",
    "df.loc[df['SentenceTypeAllChargesAtConvictionInContactEvent'].isin([9,4]),'ImposedSentenceAllChargeInContactEvent'] = 0 #if a 9 or 4 replace value in the imposed setence with 0\n",
    "df['ImposedSentenceAllChargeInContactEvent'] = df['ImposedSentenceAllChargeInContactEvent'].replace(' ',np.nan) #removing empty space in list\n",
    " "
   ]
  },
  {
   "cell_type": "markdown",
   "metadata": {
    "id": "c11bcd96-2834-41a4-80fe-d354b4277fd9"
   },
   "source": [
    "**Q3.** This question provides some practice doing exploratory data analysis and visualization.\n",
    "\n",
    "The \"relevant\" variables for this question are:\n",
    "  - `level` - Level of institution (4-year, 2-year)\n",
    "  - `aid_value` - The average amount of student aid going to undergraduate recipients\n",
    "  - `control` - Public, Private not-for-profit, Private for-profit\n",
    "  - `grad_100_value` - percentage of first-time, full-time, degree-seeking undergraduates who complete a degree or certificate program within 100 percent of expected time (bachelor's-seeking group at 4-year institutions)\n",
    "\n",
    "1. Load the `./data/college_completion.csv` data with Pandas.\n",
    "2. What are are the dimensions of the data? How many observations are there? What are the variables included? Use `.head()` to examine the first few rows of data.\n",
    "3. Cross tabulate `control` and `level`. Describe the patterns you see.\n",
    "4. For `grad_100_value`, create a histogram, kernel density plot, boxplot, and statistical description.\n",
    "5. For `grad_100_value`, create a grouped kernel density plot by `control` and by `level`. Describe what you see. Use `groupby` and `.describe` to make grouped calculations of statistical descriptions of `grad_100_value` by `level` and `control`. Which institutions appear to have the best graduation rates?\n",
    "6. Create a new variable, `df['levelXcontrol']=df['level']+', '+df['control']` that interacts level and control. Make a grouped kernel density plot. Which institutions appear to have the best graduation rates?\n",
    "7. Make a kernel density plot of `aid_value`. Notice that your graph is \"bi-modal\", having two little peaks that represent locally most common values. Now group your graph by `level` and `control`. What explains the bi-modal nature of the graph? Use `groupby` and `.describe` to make grouped calculations of statistical descriptions of `aid_value` by `level` and `control`.\n",
    "8. Make a scatterplot of `grad_100_value` by `aid_value`. Describe what you see. Now make the same plot, grouping by `level` and then `control`. Describe what you see. For which kinds of institutions does aid seem to increase graduation rates?"
   ]
  },
  {
   "cell_type": "markdown",
   "metadata": {
    "id": "98d34a3b-c21d-4dc9-a8d2-fb7686804ceb"
   },
   "source": [
    "**Q4.** This question uses the Airbnb data to practice making visualizations.\n",
    "\n",
    "  1. Load the `./data/airbnb_hw.csv` data with Pandas. You should have cleaned the `Price` variable in question 2, and you'll need it later for this question.\n",
    "  2. What are are the dimensions of the data? How many observations are there? What are the variables included? Use `.head()` to examine the first few rows of data.\n",
    "  3. Cross tabulate `Room Type` and `Property Type`. What patterns do you see in what kinds of rentals are available? For which kinds of properties are private rooms more common than renting the entire property?\n",
    "  4. For `Price`, make a histogram, kernel density, box plot, and a statistical description of the variable. Are the data badly scaled? Are there many outliers? Use `log` to transform price into a new variable, `price_log`, and take these steps again.\n",
    "  5. Make a scatterplot of `price_log` and `Beds`. Describe what you see. Use `.groupby()` to compute a desciption of `Price` conditional on/grouped by the number of beds. Describe any patterns you see in the average price and standard deviation in prices.\n",
    "  6. Make a scatterplot of `price_log` and `Beds`, but color the graph by `Room Type` and `Property Type`. What patterns do you see? Compute a description of `Price` conditional on `Room Type` and `Property Type`. Which Room Type and Property Type have the highest prices on average? Which have the highest standard deviation? Does the mean or median appear to be a more reliable estimate of central tendency, and explain why?\n",
    "  7. We've looked a bit at this `price_log` and `Beds` scatterplot. Use seaborn to make a `jointplot` with `kind=hex`. Where are the data actually distributed? How does it affect the way you think about the plots in 5 and 6?"
   ]
  },
  {
   "cell_type": "code",
   "execution_count": 50,
   "metadata": {},
   "outputs": [
    {
     "name": "stdout",
     "output_type": "stream",
     "text": [
      "13\n",
      "30478\n"
     ]
    },
    {
     "name": "stderr",
     "output_type": "stream",
     "text": [
      "/apps/software/standard/compiler/gcc/9.2.0/jupyter_conda/2020.11-py3.8/lib/python3.8/site-packages/seaborn/_decorators.py:36: FutureWarning: Pass the following variables as keyword args: x, y. From version 0.12, the only valid positional argument will be `data`, and passing other arguments without an explicit keyword will result in an error or misinterpretation.\n",
      "  warnings.warn(\n"
     ]
    },
    {
     "data": {
      "text/html": [
       "<div>\n",
       "<style scoped>\n",
       "    .dataframe tbody tr th:only-of-type {\n",
       "        vertical-align: middle;\n",
       "    }\n",
       "\n",
       "    .dataframe tbody tr th {\n",
       "        vertical-align: top;\n",
       "    }\n",
       "\n",
       "    .dataframe thead th {\n",
       "        text-align: right;\n",
       "    }\n",
       "</style>\n",
       "<table border=\"1\" class=\"dataframe\">\n",
       "  <thead>\n",
       "    <tr style=\"text-align: right;\">\n",
       "      <th></th>\n",
       "      <th>Host Id</th>\n",
       "      <th>Review Scores Rating (bin)</th>\n",
       "      <th>Zipcode</th>\n",
       "      <th>Beds</th>\n",
       "      <th>Number of Records</th>\n",
       "      <th>Number Of Reviews</th>\n",
       "      <th>Review Scores Rating</th>\n",
       "      <th>price_log</th>\n",
       "    </tr>\n",
       "    <tr>\n",
       "      <th>Price</th>\n",
       "      <th></th>\n",
       "      <th></th>\n",
       "      <th></th>\n",
       "      <th></th>\n",
       "      <th></th>\n",
       "      <th></th>\n",
       "      <th></th>\n",
       "      <th></th>\n",
       "    </tr>\n",
       "  </thead>\n",
       "  <tbody>\n",
       "    <tr>\n",
       "      <th>10.0</th>\n",
       "      <td>1.878154e+07</td>\n",
       "      <td>100.0</td>\n",
       "      <td>10840.500000</td>\n",
       "      <td>1.000000</td>\n",
       "      <td>1.0</td>\n",
       "      <td>0.666667</td>\n",
       "      <td>100.0</td>\n",
       "      <td>2.302585</td>\n",
       "    </tr>\n",
       "    <tr>\n",
       "      <th>20.0</th>\n",
       "      <td>1.371733e+07</td>\n",
       "      <td>80.0</td>\n",
       "      <td>10823.333333</td>\n",
       "      <td>1.000000</td>\n",
       "      <td>1.0</td>\n",
       "      <td>5.666667</td>\n",
       "      <td>81.0</td>\n",
       "      <td>2.995732</td>\n",
       "    </tr>\n",
       "    <tr>\n",
       "      <th>21.0</th>\n",
       "      <td>2.718749e+07</td>\n",
       "      <td>80.0</td>\n",
       "      <td>10458.000000</td>\n",
       "      <td>1.000000</td>\n",
       "      <td>1.0</td>\n",
       "      <td>1.000000</td>\n",
       "      <td>80.0</td>\n",
       "      <td>3.044522</td>\n",
       "    </tr>\n",
       "    <tr>\n",
       "      <th>22.0</th>\n",
       "      <td>1.438135e+07</td>\n",
       "      <td>85.0</td>\n",
       "      <td>10462.000000</td>\n",
       "      <td>1.000000</td>\n",
       "      <td>1.0</td>\n",
       "      <td>41.000000</td>\n",
       "      <td>89.0</td>\n",
       "      <td>3.091042</td>\n",
       "    </tr>\n",
       "    <tr>\n",
       "      <th>24.0</th>\n",
       "      <td>8.552208e+06</td>\n",
       "      <td>82.5</td>\n",
       "      <td>11213.000000</td>\n",
       "      <td>1.000000</td>\n",
       "      <td>1.0</td>\n",
       "      <td>6.000000</td>\n",
       "      <td>85.5</td>\n",
       "      <td>3.178054</td>\n",
       "    </tr>\n",
       "    <tr>\n",
       "      <th>...</th>\n",
       "      <td>...</td>\n",
       "      <td>...</td>\n",
       "      <td>...</td>\n",
       "      <td>...</td>\n",
       "      <td>...</td>\n",
       "      <td>...</td>\n",
       "      <td>...</td>\n",
       "      <td>...</td>\n",
       "    </tr>\n",
       "    <tr>\n",
       "      <th>975.0</th>\n",
       "      <td>1.151816e+07</td>\n",
       "      <td>95.0</td>\n",
       "      <td>10017.500000</td>\n",
       "      <td>6.500000</td>\n",
       "      <td>1.0</td>\n",
       "      <td>6.500000</td>\n",
       "      <td>98.0</td>\n",
       "      <td>6.882437</td>\n",
       "    </tr>\n",
       "    <tr>\n",
       "      <th>985.0</th>\n",
       "      <td>4.900009e+06</td>\n",
       "      <td>100.0</td>\n",
       "      <td>10012.000000</td>\n",
       "      <td>2.000000</td>\n",
       "      <td>1.0</td>\n",
       "      <td>18.000000</td>\n",
       "      <td>100.0</td>\n",
       "      <td>6.892642</td>\n",
       "    </tr>\n",
       "    <tr>\n",
       "      <th>995.0</th>\n",
       "      <td>9.093418e+06</td>\n",
       "      <td>90.0</td>\n",
       "      <td>10010.000000</td>\n",
       "      <td>4.666667</td>\n",
       "      <td>1.0</td>\n",
       "      <td>4.666667</td>\n",
       "      <td>90.0</td>\n",
       "      <td>6.902743</td>\n",
       "    </tr>\n",
       "    <tr>\n",
       "      <th>997.0</th>\n",
       "      <td>1.177497e+06</td>\n",
       "      <td>100.0</td>\n",
       "      <td>11205.000000</td>\n",
       "      <td>4.000000</td>\n",
       "      <td>1.0</td>\n",
       "      <td>8.000000</td>\n",
       "      <td>100.0</td>\n",
       "      <td>6.904751</td>\n",
       "    </tr>\n",
       "    <tr>\n",
       "      <th>999.0</th>\n",
       "      <td>1.225325e+07</td>\n",
       "      <td>85.0</td>\n",
       "      <td>10017.200000</td>\n",
       "      <td>2.800000</td>\n",
       "      <td>1.0</td>\n",
       "      <td>1.800000</td>\n",
       "      <td>88.0</td>\n",
       "      <td>6.906755</td>\n",
       "    </tr>\n",
       "  </tbody>\n",
       "</table>\n",
       "<p>458 rows × 8 columns</p>\n",
       "</div>"
      ],
      "text/plain": [
       "            Host Id  Review Scores Rating (bin)       Zipcode      Beds  \\\n",
       "Price                                                                     \n",
       "10.0   1.878154e+07                       100.0  10840.500000  1.000000   \n",
       "20.0   1.371733e+07                        80.0  10823.333333  1.000000   \n",
       "21.0   2.718749e+07                        80.0  10458.000000  1.000000   \n",
       "22.0   1.438135e+07                        85.0  10462.000000  1.000000   \n",
       "24.0   8.552208e+06                        82.5  11213.000000  1.000000   \n",
       "...             ...                         ...           ...       ...   \n",
       "975.0  1.151816e+07                        95.0  10017.500000  6.500000   \n",
       "985.0  4.900009e+06                       100.0  10012.000000  2.000000   \n",
       "995.0  9.093418e+06                        90.0  10010.000000  4.666667   \n",
       "997.0  1.177497e+06                       100.0  11205.000000  4.000000   \n",
       "999.0  1.225325e+07                        85.0  10017.200000  2.800000   \n",
       "\n",
       "       Number of Records  Number Of Reviews  Review Scores Rating  price_log  \n",
       "Price                                                                         \n",
       "10.0                 1.0           0.666667                 100.0   2.302585  \n",
       "20.0                 1.0           5.666667                  81.0   2.995732  \n",
       "21.0                 1.0           1.000000                  80.0   3.044522  \n",
       "22.0                 1.0          41.000000                  89.0   3.091042  \n",
       "24.0                 1.0           6.000000                  85.5   3.178054  \n",
       "...                  ...                ...                   ...        ...  \n",
       "975.0                1.0           6.500000                  98.0   6.882437  \n",
       "985.0                1.0          18.000000                 100.0   6.892642  \n",
       "995.0                1.0           4.666667                  90.0   6.902743  \n",
       "997.0                1.0           8.000000                 100.0   6.904751  \n",
       "999.0                1.0           1.800000                  88.0   6.906755  \n",
       "\n",
       "[458 rows x 8 columns]"
      ]
     },
     "execution_count": 50,
     "metadata": {},
     "output_type": "execute_result"
    },
    {
     "data": {
      "image/png": "[encoded data removed]",
      "text/plain": [
       "<Figure size 432x288 with 1 Axes>"
      ]
     },
     "metadata": {
      "needs_background": "light"
     },
     "output_type": "display_data"
    }
   ],
   "source": [
    "bnb = pd.read_csv('./data/airbnb_hw.csv')\n",
    "bnb['Price'].str.replace(',','') #removing the commas out of the value to save the data above 999\n",
    "bnb['Price'] = pd.to_numeric(bnb['Price'], errors='coerce') # will set missing or invalid data to NaN\n",
    "print(len(bnb.columns))\n",
    "print(len(bnb.index))\n",
    "bnb.head()\n",
    "#2 the dimmesnions of this data are 14 by 30478, there are 30478 observations, the variables are host id, host since, name, Neighbourhood, property type, review scores rating, room type, zipcode, beds, number of records, number of reviews, price, review scores rating, price_nan\n",
    "pd.crosstab(bnb['Room Type'], bnb['Property Type'] )\n",
    "#3 The most common type of property aviable is an an apartment for all different room types. Overall the most common type of property rented out is apartment by a landslide. It has the most avaibility compared to all other options for entire home/apt rental and private room rental. A private room is more common then the entire property for bed and breakfast, dorm, house, hut, and other\n",
    "#sns.histplot(bnb['Price'])\n",
    "#sns.kdeplot(bnb['Price'])\n",
    "#sns.boxplot(bnb['Price'])\n",
    "#bnb['Price'].describe()\n",
    "bnb['price_log'] = np.log(bnb['Price'])\n",
    "#sns.histplot(bnb['price_log'])\n",
    "#sns.kdeplot(bnb['price_log'])\n",
    "#sns.boxplot(bnb['price_log'])\n",
    "#bnb['price_log'].describe()\n",
    "#4 the box plot is badly scaled, unable to read the data at all or interpet due to the wide range in price values making it hard to see the perctentiles. Hard to read the density plot as density values are so small on the y-axis and the price values are so large. the hist plot able to get more exact value for the price for a specific count, count stayed the same but price changed creating a better skewed plot. For the description, the values after the log were taken decrease dramitcally and the range of values.\n",
    "#sns.scatterplot(bnb['price_log'],bnb['Beds'])\n",
    "#bnb.groupby('Price').mean()\n",
    "#5* the price increases as the number of beds increase. the average price is around 5 to 6.5 through the high concentration of data at all number of beds. The stanard devation for price varies in about to 3 to 7 so about 2 on either side.  \n",
    "#sns.scatterplot(data=bnb, x='price_log', y='Beds', hue='Room Type') \n",
    "#sns.scatterplot(data=bnb, x='price_log', y='Beds', hue='Property Type')\n",
    "#6 hard to tell what propery type has the higher prices due to the most common property type being an apartment by far so the whole plot is covered in pink dots for the apartment; for the room type the 3ntire home/apt is the expensive to rent; The SD was the same for both, \n",
    "#sns.jointplot(x='price_log',y='Beds',data=bnb, kind = 'hex')\n",
    "#7 The data is heavily distrubted from around where the price is 3.25 to 7 and where the number of beds is 1 to 3. This makes you alter the way you think about 5 and 6 as the price ranges a lot lower than the visulzation leads to. There looks to be a higher concentration of points at price 7 on graphs 5 and 6, but what graph 7 tells you is there is that the points closer to rpice 7 are way lower of density and are not as probable, but due to the many many points of data and the small range you are unable to see actually how dense the price is around 5. "
   ]
  },
  {
   "cell_type": "markdown",
   "metadata": {
    "id": "649494cd-cfd6-4f80-992a-9994fc19e1d5"
   },
   "source": [
    "**Q5.** Many important datasets contain a race variable, typically limited to a handful of values often including Black, White, Asian, Latino, and Indigenous. This question looks at data gathering efforts on this variable by the U.S. Federal government.\n",
    "\n",
    "1. How did the most recent US Census gather data on race?\n",
    "2. Why do we gather these data? What role do these kinds of data play in politics and society? Why does data quality matter?\n",
    "3. Please provide a constructive criticism of how the Census was conducted: What was done well? What do you think was missing? How should future large scale surveys be adjusted to best reflect the diversity of the population? Could some of the Census' good practices be adopted more widely to gather richer and more useful data?\n",
    "4. How did the Census gather data on sex and gender? Please provide a similar constructive criticism of their practices.\n",
    "5. When it comes to cleaning data, what concerns do you have about protected characteristics like sex, gender, sexual identity, or race? What challenges can you imagine arising when there are missing values? What good or bad practices might people adopt, and why?\n",
    "6. Suppose someone invented an algorithm to impute values for protected characteristics like race, gender, sex, or sexuality. What kinds of concerns would you have?"
   ]
  },
  {
   "cell_type": "markdown",
   "metadata": {
    "id": "2f38f2fd-6381-481d-bba9-017f3d363426"
   },
   "source": [
    "**Q6.** Open the `./data/CBO_data.pdf` file. This contains tax data for 2019, explaining where the money comes from that the U.S. Federal Government Spends in terms of taxation on individuals/families and payroll taxes (the amount that your employer pays in taxes on your wages).\n",
    "\n",
    "For some context, the Federal government ultimately spent about $4.4 trillion in 2019, which was 21% of GDP (the total monetary value of all goods and services produced within the United States). Individual Income Taxes is the amount individuals pay on their wages to the Federal government, Corporate Income Taxes is the taxes individuals pay on capital gains from investment when they sell stock or other financial instruments, Payroll Taxes is the tax your employer pays on your wages, Excises and Customs Duties are taxes on goods or services like sin taxes on cigarettes or alcohol, and Estate and Gift Taxes are taxes paid on transfers of wealth to other people.\n",
    "\n",
    "1. Get the Millions of Families and Billions of Dollars data into a .csv file and load it with Pandas.\n",
    "2. Create a bar plot of individual income taxes by income decile. Explain what the graph shows. Why are some values negative?\n",
    "3. Create a bar plot of Total Federal Taxes by income decile. Which deciles are paying net positive amounts, and which are paying net negative amounts?\n",
    "4. Create a stacked bar plot for which Total Federal Taxes is grouped by Individual Income Taxes, Payroll Taxes, Excises and Customs Duties, and Estate and Gift Taxes. How does the share of taxes paid vary across the adjusted income deciles? (Hint: Are these the kind of data you want to melt?)\n",
    "5. Below the Total line for Millions of Families and Billions of Dollars, there are data for the richest of the richest families. Plot this alongside the bars for the deciles above the Total line. Describe your results.\n",
    "6. Get the Percent Distribution data into a .csv file and load it with Pandas. Create a bar graph of Total Federal Taxes by income decile.\n",
    "7. A tax system is progressive if higher-income and wealthier individuals pay more than lower-income and less wealthy individuals, and it is regressive if the opposite is true. Is the U.S. tax system progressive in terms of amount paid? In terms of the percentage of the overall total?\n",
    "8. Do the rich pay enough in taxes? Defend your answer."
   ]
  },
  {
   "cell_type": "code",
   "execution_count": 15,
   "metadata": {},
   "outputs": [
    {
     "ename": "ParserError",
     "evalue": "Error tokenizing data. C error: Expected 1 fields in line 23, saw 2\n",
     "output_type": "error",
     "traceback": [
      "\u001b[0;31m---------------------------------------------------------------------------\u001b[0m",
      "\u001b[0;31mParserError\u001b[0m                               Traceback (most recent call last)",
      "\u001b[0;32m<ipython-input-15-28acfad50ec8>\u001b[0m in \u001b[0;36m<module>\u001b[0;34m\u001b[0m\n\u001b[0;32m----> 1\u001b[0;31m \u001b[0mdf\u001b[0m \u001b[0;34m=\u001b[0m \u001b[0mpd\u001b[0m\u001b[0;34m.\u001b[0m\u001b[0mread_csv\u001b[0m\u001b[0;34m(\u001b[0m\u001b[0;34m'./data/CBO_data.pdf'\u001b[0m\u001b[0;34m)\u001b[0m\u001b[0;34m\u001b[0m\u001b[0;34m\u001b[0m\u001b[0m\n\u001b[0m",
      "\u001b[0;32m/apps/software/standard/compiler/gcc/9.2.0/jupyter_conda/2020.11-py3.8/lib/python3.8/site-packages/pandas/io/parsers.py\u001b[0m in \u001b[0;36mread_csv\u001b[0;34m(filepath_or_buffer, sep, delimiter, header, names, index_col, usecols, squeeze, prefix, mangle_dupe_cols, dtype, engine, converters, true_values, false_values, skipinitialspace, skiprows, skipfooter, nrows, na_values, keep_default_na, na_filter, verbose, skip_blank_lines, parse_dates, infer_datetime_format, keep_date_col, date_parser, dayfirst, cache_dates, iterator, chunksize, compression, thousands, decimal, lineterminator, quotechar, quoting, doublequote, escapechar, comment, encoding, dialect, error_bad_lines, warn_bad_lines, delim_whitespace, low_memory, memory_map, float_precision)\u001b[0m\n\u001b[1;32m    684\u001b[0m     )\n\u001b[1;32m    685\u001b[0m \u001b[0;34m\u001b[0m\u001b[0m\n\u001b[0;32m--> 686\u001b[0;31m     \u001b[0;32mreturn\u001b[0m \u001b[0m_read\u001b[0m\u001b[0;34m(\u001b[0m\u001b[0mfilepath_or_buffer\u001b[0m\u001b[0;34m,\u001b[0m \u001b[0mkwds\u001b[0m\u001b[0;34m)\u001b[0m\u001b[0;34m\u001b[0m\u001b[0;34m\u001b[0m\u001b[0m\n\u001b[0m\u001b[1;32m    687\u001b[0m \u001b[0;34m\u001b[0m\u001b[0m\n\u001b[1;32m    688\u001b[0m \u001b[0;34m\u001b[0m\u001b[0m\n",
      "\u001b[0;32m/apps/software/standard/compiler/gcc/9.2.0/jupyter_conda/2020.11-py3.8/lib/python3.8/site-packages/pandas/io/parsers.py\u001b[0m in \u001b[0;36m_read\u001b[0;34m(filepath_or_buffer, kwds)\u001b[0m\n\u001b[1;32m    456\u001b[0m \u001b[0;34m\u001b[0m\u001b[0m\n\u001b[1;32m    457\u001b[0m     \u001b[0;32mtry\u001b[0m\u001b[0;34m:\u001b[0m\u001b[0;34m\u001b[0m\u001b[0;34m\u001b[0m\u001b[0m\n\u001b[0;32m--> 458\u001b[0;31m         \u001b[0mdata\u001b[0m \u001b[0;34m=\u001b[0m \u001b[0mparser\u001b[0m\u001b[0;34m.\u001b[0m\u001b[0mread\u001b[0m\u001b[0;34m(\u001b[0m\u001b[0mnrows\u001b[0m\u001b[0;34m)\u001b[0m\u001b[0;34m\u001b[0m\u001b[0;34m\u001b[0m\u001b[0m\n\u001b[0m\u001b[1;32m    459\u001b[0m     \u001b[0;32mfinally\u001b[0m\u001b[0;34m:\u001b[0m\u001b[0;34m\u001b[0m\u001b[0;34m\u001b[0m\u001b[0m\n\u001b[1;32m    460\u001b[0m         \u001b[0mparser\u001b[0m\u001b[0;34m.\u001b[0m\u001b[0mclose\u001b[0m\u001b[0;34m(\u001b[0m\u001b[0;34m)\u001b[0m\u001b[0;34m\u001b[0m\u001b[0;34m\u001b[0m\u001b[0m\n",
      "\u001b[0;32m/apps/software/standard/compiler/gcc/9.2.0/jupyter_conda/2020.11-py3.8/lib/python3.8/site-packages/pandas/io/parsers.py\u001b[0m in \u001b[0;36mread\u001b[0;34m(self, nrows)\u001b[0m\n\u001b[1;32m   1194\u001b[0m     \u001b[0;32mdef\u001b[0m \u001b[0mread\u001b[0m\u001b[0;34m(\u001b[0m\u001b[0mself\u001b[0m\u001b[0;34m,\u001b[0m \u001b[0mnrows\u001b[0m\u001b[0;34m=\u001b[0m\u001b[0;32mNone\u001b[0m\u001b[0;34m)\u001b[0m\u001b[0;34m:\u001b[0m\u001b[0;34m\u001b[0m\u001b[0;34m\u001b[0m\u001b[0m\n\u001b[1;32m   1195\u001b[0m         \u001b[0mnrows\u001b[0m \u001b[0;34m=\u001b[0m \u001b[0m_validate_integer\u001b[0m\u001b[0;34m(\u001b[0m\u001b[0;34m\"nrows\"\u001b[0m\u001b[0;34m,\u001b[0m \u001b[0mnrows\u001b[0m\u001b[0;34m)\u001b[0m\u001b[0;34m\u001b[0m\u001b[0;34m\u001b[0m\u001b[0m\n\u001b[0;32m-> 1196\u001b[0;31m         \u001b[0mret\u001b[0m \u001b[0;34m=\u001b[0m \u001b[0mself\u001b[0m\u001b[0;34m.\u001b[0m\u001b[0m_engine\u001b[0m\u001b[0;34m.\u001b[0m\u001b[0mread\u001b[0m\u001b[0;34m(\u001b[0m\u001b[0mnrows\u001b[0m\u001b[0;34m)\u001b[0m\u001b[0;34m\u001b[0m\u001b[0;34m\u001b[0m\u001b[0m\n\u001b[0m\u001b[1;32m   1197\u001b[0m \u001b[0;34m\u001b[0m\u001b[0m\n\u001b[1;32m   1198\u001b[0m         \u001b[0;31m# May alter columns / col_dict\u001b[0m\u001b[0;34m\u001b[0m\u001b[0;34m\u001b[0m\u001b[0;34m\u001b[0m\u001b[0m\n",
      "\u001b[0;32m/apps/software/standard/compiler/gcc/9.2.0/jupyter_conda/2020.11-py3.8/lib/python3.8/site-packages/pandas/io/parsers.py\u001b[0m in \u001b[0;36mread\u001b[0;34m(self, nrows)\u001b[0m\n\u001b[1;32m   2153\u001b[0m     \u001b[0;32mdef\u001b[0m \u001b[0mread\u001b[0m\u001b[0;34m(\u001b[0m\u001b[0mself\u001b[0m\u001b[0;34m,\u001b[0m \u001b[0mnrows\u001b[0m\u001b[0;34m=\u001b[0m\u001b[0;32mNone\u001b[0m\u001b[0;34m)\u001b[0m\u001b[0;34m:\u001b[0m\u001b[0;34m\u001b[0m\u001b[0;34m\u001b[0m\u001b[0m\n\u001b[1;32m   2154\u001b[0m         \u001b[0;32mtry\u001b[0m\u001b[0;34m:\u001b[0m\u001b[0;34m\u001b[0m\u001b[0;34m\u001b[0m\u001b[0m\n\u001b[0;32m-> 2155\u001b[0;31m             \u001b[0mdata\u001b[0m \u001b[0;34m=\u001b[0m \u001b[0mself\u001b[0m\u001b[0;34m.\u001b[0m\u001b[0m_reader\u001b[0m\u001b[0;34m.\u001b[0m\u001b[0mread\u001b[0m\u001b[0;34m(\u001b[0m\u001b[0mnrows\u001b[0m\u001b[0;34m)\u001b[0m\u001b[0;34m\u001b[0m\u001b[0;34m\u001b[0m\u001b[0m\n\u001b[0m\u001b[1;32m   2156\u001b[0m         \u001b[0;32mexcept\u001b[0m \u001b[0mStopIteration\u001b[0m\u001b[0;34m:\u001b[0m\u001b[0;34m\u001b[0m\u001b[0;34m\u001b[0m\u001b[0m\n\u001b[1;32m   2157\u001b[0m             \u001b[0;32mif\u001b[0m \u001b[0mself\u001b[0m\u001b[0;34m.\u001b[0m\u001b[0m_first_chunk\u001b[0m\u001b[0;34m:\u001b[0m\u001b[0;34m\u001b[0m\u001b[0;34m\u001b[0m\u001b[0m\n",
      "\u001b[0;32mpandas/_libs/parsers.pyx\u001b[0m in \u001b[0;36mpandas._libs.parsers.TextReader.read\u001b[0;34m()\u001b[0m\n",
      "\u001b[0;32mpandas/_libs/parsers.pyx\u001b[0m in \u001b[0;36mpandas._libs.parsers.TextReader._read_low_memory\u001b[0;34m()\u001b[0m\n",
      "\u001b[0;32mpandas/_libs/parsers.pyx\u001b[0m in \u001b[0;36mpandas._libs.parsers.TextReader._read_rows\u001b[0;34m()\u001b[0m\n",
      "\u001b[0;32mpandas/_libs/parsers.pyx\u001b[0m in \u001b[0;36mpandas._libs.parsers.TextReader._tokenize_rows\u001b[0;34m()\u001b[0m\n",
      "\u001b[0;32mpandas/_libs/parsers.pyx\u001b[0m in \u001b[0;36mpandas._libs.parsers.raise_parser_error\u001b[0;34m()\u001b[0m\n",
      "\u001b[0;31mParserError\u001b[0m: Error tokenizing data. C error: Expected 1 fields in line 23, saw 2\n"
     ]
    }
   ],
   "source": [
    "df = pd.read_csv('./data/CBO_data.pdf')"
   ]
  },
  {
   "cell_type": "code",
   "execution_count": null,
   "metadata": {},
   "outputs": [],
   "source": []
  }
 ],
 "metadata": {
  "colab": {
   "provenance": []
  },
  "kernelspec": {
   "display_name": "Python 3",
   "language": "python",
   "name": "python3"
  },
  "language_info": {
   "codemirror_mode": {
    "name": "ipython",
    "version": 3
   },
   "file_extension": ".py",
   "mimetype": "text/x-python",
   "name": "python",
   "nbconvert_exporter": "python",
   "pygments_lexer": "ipython3",
   "version": "3.8.8"
  }
 },
 "nbformat": 4,
 "nbformat_minor": 5
}
